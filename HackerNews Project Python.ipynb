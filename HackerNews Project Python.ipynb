{
 "cells": [
  {
   "cell_type": "markdown",
   "metadata": {
    "collapsed": true
   },
   "source": [
    "# Hacker News Project\n",
    "\n",
    "The objective of this guided project is to compare two types of posts on Hacker News; Ask HN & Show HN. We will compare the two posts in their frequency and engagement with respect to the time of day, how many points the post receives each hour, etc."
   ]
  },
  {
   "cell_type": "code",
   "execution_count": 1,
   "metadata": {},
   "outputs": [
    {
     "name": "stdout",
     "output_type": "stream",
     "text": [
      "[['id', 'title', 'url', 'num_points', 'num_comments', 'author', 'created_at'], ['12224879', 'Interactive Dynamic Video', 'http://www.interactivedynamicvideo.com/', '386', '52', 'ne0phyte', '8/4/2016 11:52'], ['10975351', 'How to Use Open Source and Shut the Fuck Up at the Same Time', 'http://hueniverse.com/2016/01/26/how-to-use-open-source-and-shut-the-fuck-up-at-the-same-time/', '39', '10', 'josep2', '1/26/2016 19:30'], ['11964716', \"Florida DJs May Face Felony for April Fools' Water Joke\", 'http://www.thewire.com/entertainment/2013/04/florida-djs-april-fools-water-joke/63798/', '2', '1', 'vezycash', '6/23/2016 22:20']]\n"
     ]
    }
   ],
   "source": [
    "from csv import reader # calling open, reader, & list functions to access dataset\n",
    "opened_file = open('hacker_news.csv')\n",
    "read_file = reader(opened_file)\n",
    "list_file = list(read_file)\n",
    "hn = list_file\n",
    "print(hn[:4])\n"
   ]
  },
  {
   "cell_type": "code",
   "execution_count": 2,
   "metadata": {
    "scrolled": true
   },
   "outputs": [
    {
     "name": "stdout",
     "output_type": "stream",
     "text": [
      "['id', 'title', 'url', 'num_points', 'num_comments', 'author', 'created_at']\n",
      "[['12224879', 'Interactive Dynamic Video', 'http://www.interactivedynamicvideo.com/', '386', '52', 'ne0phyte', '8/4/2016 11:52'], ['10975351', 'How to Use Open Source and Shut the Fuck Up at the Same Time', 'http://hueniverse.com/2016/01/26/how-to-use-open-source-and-shut-the-fuck-up-at-the-same-time/', '39', '10', 'josep2', '1/26/2016 19:30'], ['11964716', \"Florida DJs May Face Felony for April Fools' Water Joke\", 'http://www.thewire.com/entertainment/2013/04/florida-djs-april-fools-water-joke/63798/', '2', '1', 'vezycash', '6/23/2016 22:20'], ['11919867', 'Technology ventures: From Idea to Enterprise', 'https://www.amazon.com/Technology-Ventures-Enterprise-Thomas-Byers/dp/0073523429', '3', '1', 'hswarna', '6/17/2016 0:01'], ['10301696', 'Note by Note: The Making of Steinway L1037 (2007)', 'http://www.nytimes.com/2007/11/07/movies/07stein.html?_r=0', '8', '2', 'walterbell', '9/30/2015 4:12']]\n"
     ]
    }
   ],
   "source": [
    "headers = hn[0] # separating the header row from the dataset \n",
    "hn = hn[1:]\n",
    "print(headers)\n",
    "print(hn[:5])"
   ]
  },
  {
   "cell_type": "code",
   "execution_count": 3,
   "metadata": {
    "scrolled": true
   },
   "outputs": [
    {
     "name": "stdout",
     "output_type": "stream",
     "text": [
      "1744\n",
      "1162\n",
      "17194\n",
      "[['12296411', 'Ask HN: How to improve my personal website?', '', '2', '6', 'ahmedbaracat', '8/16/2016 9:55'], ['10610020', 'Ask HN: Am I the only one outraged by Twitter shutting down share counts?', '', '28', '29', 'tkfx', '11/22/2015 13:43'], ['11610310', 'Ask HN: Aby recent changes to CSS that broke mobile?', '', '1', '1', 'polskibus', '5/2/2016 10:14']]\n"
     ]
    }
   ],
   "source": [
    "ask_posts = [] # creating lists to sort dataset by type of post\n",
    "show_posts = []\n",
    "other_posts = []\n",
    "\n",
    "for row in hn:\n",
    "    title = row[1]\n",
    "    title = title.lower() # making title all lowercase to sort w/o case error\n",
    "    \n",
    "    if title.startswith('ask hn'): # startswith function to sort by post title\n",
    "        ask_posts.append(row)\n",
    "        \n",
    "    elif title.startswith('show hn'):\n",
    "        show_posts.append(row)\n",
    "        \n",
    "    else:\n",
    "        other_posts.append(row)\n",
    "        \n",
    "print(len(ask_posts))\n",
    "print(len(show_posts))\n",
    "print(len(other_posts))\n",
    "\n",
    "print(ask_posts[:3])\n",
    "        \n",
    "    \n",
    "    \n",
    "    "
   ]
  },
  {
   "cell_type": "code",
   "execution_count": 4,
   "metadata": {},
   "outputs": [
    {
     "name": "stdout",
     "output_type": "stream",
     "text": [
      "Average comments on ask posts are 14.038417431192661\n",
      "Average comments on show posts are 10.31669535283993\n"
     ]
    }
   ],
   "source": [
    "total_ask_comments = 0 # counting all ask post comments\n",
    "for row in ask_posts:\n",
    "    ask_comment = int(row[4])\n",
    "    total_ask_comments += ask_comment\n",
    "    \n",
    "avg_ask_comments = total_ask_comments / len(ask_posts) # avg amount of comments on ask posts\n",
    "template = \"Average comments on ask posts are \"\n",
    "print(template + str(avg_ask_comments))\n",
    "    \n",
    "total_show_comments = 0 #counting all show post comments\n",
    "for row in show_posts:\n",
    "    show_comment = int(row[4])\n",
    "    total_show_comments += show_comment\n",
    "\n",
    "avg_show_comments = total_show_comments / len(show_posts) # avg amount of comments on show posts\n",
    "template = \"Average comments on show posts are \"\n",
    "print(template + str(avg_show_comments))\n",
    "    \n",
    "\n",
    "    \n",
    "    "
   ]
  },
  {
   "cell_type": "markdown",
   "metadata": {},
   "source": [
    "On average, ask posts are more likely to receive comments compared to show posts by a margin of ~30%. This is logical because an ask post primary objective is to collect responses in the form of a solution/advice to the given question. Show posts invite comments but are posted for the actual contents."
   ]
  },
  {
   "cell_type": "markdown",
   "metadata": {},
   "source": [
    "# Ask Posts Engagement Relative to Time"
   ]
  },
  {
   "cell_type": "code",
   "execution_count": 5,
   "metadata": {
    "scrolled": true
   },
   "outputs": [
    {
     "name": "stdout",
     "output_type": "stream",
     "text": [
      "[['8/16/2016 9:55', 6], ['11/22/2015 13:43', 29], ['5/2/2016 10:14', 1], ['8/2/2016 14:20', 3]]\n",
      "{'09': 251, '13': 1253, '10': 793, '14': 1416, '16': 1814, '23': 543, '12': 687, '17': 1146, '15': 4477, '21': 1745, '20': 1722, '02': 1381, '18': 1439, '03': 421, '05': 464, '19': 1188, '01': 683, '22': 479, '08': 492, '04': 337, '00': 447, '06': 397, '07': 267, '11': 641}\n",
      "{'09': 45, '13': 85, '10': 59, '14': 107, '16': 108, '23': 68, '12': 73, '17': 100, '15': 116, '21': 109, '20': 80, '02': 58, '18': 109, '03': 54, '05': 46, '19': 110, '01': 60, '22': 71, '08': 48, '04': 47, '00': 55, '06': 44, '07': 34, '11': 58}\n"
     ]
    }
   ],
   "source": [
    "import datetime as dt # import datetime module to work with datetime clauses\n",
    "result_list = [] # list to populate with post created at & number of comments\n",
    "for row in ask_posts:\n",
    "    created_at = row[6]\n",
    "    num_comments = int(row[4])\n",
    "    result_list.append([created_at, num_comments])\n",
    "print(result_list[:4])\n",
    "    \n",
    "counts_by_hour = {} # dictionary to create freq table of amount of posts by hour\n",
    "comments_by_hour = {} # dictionary to create freq table of amount of comments on posts by hour\n",
    "date_format = '%m/%d/%Y %H:%M' # sample format of datetime objects in dataset \n",
    "    \n",
    "for row in result_list:\n",
    "    date = row[0]\n",
    "    comment = row[1]\n",
    "    date_final = dt.datetime.strptime(date, date_format) # parsing the date using datetime clause\n",
    "    time = date_final.strftime(\"%H\") # formatting date and isolating the hour using datetime clause\n",
    "    \n",
    "    if time in counts_by_hour: # if time value exists in dictionary, adds to post count/ comment tally\n",
    "        counts_by_hour[time] += 1\n",
    "        comments_by_hour[time] += comment\n",
    "        \n",
    "    else:                      # if new time value, creates a key in dictionary to add post/ comment tally\n",
    "        counts_by_hour[time] = 1\n",
    "        comments_by_hour[time] = comment \n",
    "        \n",
    "print(comments_by_hour)\n",
    "print(counts_by_hour)\n",
    "        \n",
    "  \n",
    "    "
   ]
  },
  {
   "cell_type": "code",
   "execution_count": 6,
   "metadata": {},
   "outputs": [
    {
     "name": "stdout",
     "output_type": "stream",
     "text": [
      "[['09', 5.5777777777777775], ['13', 14.741176470588234], ['10', 13.440677966101696], ['14', 13.233644859813085], ['16', 16.796296296296298], ['23', 7.985294117647059], ['12', 9.41095890410959], ['17', 11.46], ['15', 38.5948275862069], ['21', 16.009174311926607], ['20', 21.525], ['02', 23.810344827586206], ['18', 13.20183486238532], ['03', 7.796296296296297], ['05', 10.08695652173913], ['19', 10.8], ['01', 11.383333333333333], ['22', 6.746478873239437], ['08', 10.25], ['04', 7.170212765957447], ['00', 8.127272727272727], ['06', 9.022727272727273], ['07', 7.852941176470588], ['11', 11.051724137931034]]\n"
     ]
    }
   ],
   "source": [
    "avg_by_hour = [] # list to populate with the hour & average comments per post \n",
    "for hour in comments_by_hour:\n",
    "    comments = comments_by_hour[hour]\n",
    "    counts = counts_by_hour[hour]\n",
    "    avg_by_hour.append([hour, (comments/counts)])\n",
    "    \n",
    "print(avg_by_hour)\n",
    "\n",
    "    "
   ]
  },
  {
   "cell_type": "code",
   "execution_count": 7,
   "metadata": {},
   "outputs": [
    {
     "name": "stdout",
     "output_type": "stream",
     "text": [
      "[[5.5777777777777775, '09'], [14.741176470588234, '13'], [13.440677966101696, '10'], [13.233644859813085, '14'], [16.796296296296298, '16'], [7.985294117647059, '23'], [9.41095890410959, '12'], [11.46, '17'], [38.5948275862069, '15'], [16.009174311926607, '21'], [21.525, '20'], [23.810344827586206, '02'], [13.20183486238532, '18'], [7.796296296296297, '03'], [10.08695652173913, '05'], [10.8, '19'], [11.383333333333333, '01'], [6.746478873239437, '22'], [10.25, '08'], [7.170212765957447, '04'], [8.127272727272727, '00'], [9.022727272727273, '06'], [7.852941176470588, '07'], [11.051724137931034, '11']]\n"
     ]
    }
   ],
   "source": [
    "swap_avg_by_hour = [] # list to swap variable placement of previous list\n",
    "for row in avg_by_hour:\n",
    "    hr = row[0] \n",
    "    avg = row[1]\n",
    "    swap_avg_by_hour.append([avg, hr])\n",
    "\n",
    "print(swap_avg_by_hour)\n",
    "\n",
    "\n",
    "    \n",
    "    "
   ]
  },
  {
   "cell_type": "code",
   "execution_count": 8,
   "metadata": {},
   "outputs": [],
   "source": [
    "sorted_swap = sorted(swap_avg_by_hour, reverse = True) # sorted function to order number of comments highest to lowest"
   ]
  },
  {
   "cell_type": "code",
   "execution_count": 9,
   "metadata": {},
   "outputs": [
    {
     "name": "stdout",
     "output_type": "stream",
     "text": [
      "Top 5 Hours for Ask Post Comments\n",
      "15:00: 38.59 average comments per post\n",
      "02:00: 23.81 average comments per post\n",
      "20:00: 21.52 average comments per post\n",
      "16:00: 16.80 average comments per post\n",
      "21:00: 16.01 average comments per post\n"
     ]
    }
   ],
   "source": [
    "string = \"Top 5 Hours for Ask Post Comments\"\n",
    "print(string)\n",
    "\n",
    "for row in sorted_swap[:5]:\n",
    "    date = dt.datetime.strptime(row[1], \"%H\")\n",
    "    time = date.strftime('%H:%M')\n",
    "    template = \"{}: {:.2f} average comments per post\" # time & comments rounded to nearest hundreth inserted, respectively\n",
    "    print(template.format(time, row[0]))\n",
    "    \n",
    "    "
   ]
  },
  {
   "cell_type": "markdown",
   "metadata": {},
   "source": [
    "According to our list above, the best time to ask questions is at 3pm with an average of ~39 comments per post. However, the comment threshold appears time sensitive due to the fact that the average comments per post is reduced over 50% in just an hour (4pm). "
   ]
  },
  {
   "cell_type": "markdown",
   "metadata": {},
   "source": [
    "# Part Two \n",
    "First, we will compare the average number of points between ask and show posts. Then, we will conduct further analysis on the more relevant category."
   ]
  },
  {
   "cell_type": "code",
   "execution_count": 10,
   "metadata": {},
   "outputs": [
    {
     "name": "stdout",
     "output_type": "stream",
     "text": [
      "['id', 'title', 'url', 'num_points', 'num_comments', 'author', 'created_at']\n"
     ]
    }
   ],
   "source": [
    "print(headers)"
   ]
  },
  {
   "cell_type": "code",
   "execution_count": 11,
   "metadata": {},
   "outputs": [
    {
     "name": "stdout",
     "output_type": "stream",
     "text": [
      "15.061926605504587\n",
      "27.555077452667813\n"
     ]
    }
   ],
   "source": [
    "sum_points_ask_posts = 0 # counting argument to aggregate total points in each category\n",
    "sum_points_show_posts = 0\n",
    "\n",
    "for post in ask_posts:\n",
    "    points = int(post[3]) # num_points called from 4th variable in header row\n",
    "    sum_points_ask_posts += points\n",
    "    \n",
    "for post in show_posts:\n",
    "    points = int(post[3])\n",
    "    sum_points_show_posts += points\n",
    "    \n",
    "print(sum_points_ask_posts/len(ask_posts)) \n",
    "print(sum_points_show_posts/len(show_posts))\n",
    "\n",
    "    "
   ]
  },
  {
   "cell_type": "markdown",
   "metadata": {},
   "source": [
    "Since show posts are likely to receive more points on average, we will focus the rest of the analysis there. The objective being to find the optimal time for show posts to accrue points. "
   ]
  },
  {
   "cell_type": "code",
   "execution_count": 12,
   "metadata": {},
   "outputs": [
    {
     "name": "stdout",
     "output_type": "stream",
     "text": [
      "[['11/25/2015 14:03', 26], ['11/29/2015 22:46', 747], ['4/28/2016 18:05', 1], ['7/28/2016 7:11', 3], ['1/9/2016 20:45', 1]]\n"
     ]
    },
    {
     "data": {
      "text/plain": [
       "{'14': 86,\n",
       " '22': 46,\n",
       " '18': 61,\n",
       " '07': 26,\n",
       " '20': 60,\n",
       " '05': 19,\n",
       " '16': 93,\n",
       " '19': 55,\n",
       " '15': 78,\n",
       " '03': 27,\n",
       " '17': 93,\n",
       " '06': 16,\n",
       " '02': 30,\n",
       " '13': 99,\n",
       " '08': 34,\n",
       " '21': 47,\n",
       " '04': 26,\n",
       " '11': 44,\n",
       " '12': 61,\n",
       " '23': 36,\n",
       " '09': 30,\n",
       " '01': 28,\n",
       " '10': 36,\n",
       " '00': 31}"
      ]
     },
     "execution_count": 12,
     "metadata": {},
     "output_type": "execute_result"
    }
   ],
   "source": [
    "result_show_list = [] # list to populate with each show posts time created and points\n",
    "\n",
    "for post in show_posts:\n",
    "    created_at = post[6]\n",
    "    points = int(post[3])\n",
    "    result_show_list.append([created_at, points])\n",
    "print(result_show_list[0:5])   \n",
    "\n",
    "\n",
    "count_show_posts = {} # dictionaries to make freq table of number of posts and points per post\n",
    "points_show_posts = {}\n",
    "date_format_show = '%m/%d/%Y %H:%M'\n",
    "\n",
    "for row in result_show_list:\n",
    "    date = row[0]\n",
    "    points = row[1]\n",
    "    date_final = dt.datetime.strptime(date, date_format_show)\n",
    "    time = date_final.strftime('%H')\n",
    "  \n",
    "    if time in count_show_posts:\n",
    "        count_show_posts[time] += 1\n",
    "        points_show_posts[time] += points\n",
    "        \n",
    "    else: \n",
    "        count_show_posts[time] = 1\n",
    "        points_show_posts[time] = points\n",
    "\n",
    "points_show_posts\n",
    "count_show_posts \n",
    "\n",
    "\n",
    "    "
   ]
  },
  {
   "cell_type": "code",
   "execution_count": 13,
   "metadata": {},
   "outputs": [
    {
     "data": {
      "text/plain": [
       "[['14', 25.430232558139537],\n",
       " ['22', 40.34782608695652],\n",
       " ['18', 36.31147540983606],\n",
       " ['07', 19.0],\n",
       " ['20', 30.316666666666666],\n",
       " ['05', 5.473684210526316],\n",
       " ['16', 28.322580645161292],\n",
       " ['19', 30.945454545454545],\n",
       " ['15', 28.564102564102566],\n",
       " ['03', 25.14814814814815],\n",
       " ['17', 27.107526881720432],\n",
       " ['06', 23.4375],\n",
       " ['02', 11.333333333333334],\n",
       " ['13', 24.626262626262626],\n",
       " ['08', 15.264705882352942],\n",
       " ['21', 18.425531914893618],\n",
       " ['04', 14.846153846153847],\n",
       " ['11', 33.63636363636363],\n",
       " ['12', 41.68852459016394],\n",
       " ['23', 42.388888888888886],\n",
       " ['09', 18.433333333333334],\n",
       " ['01', 25.0],\n",
       " ['10', 18.916666666666668],\n",
       " ['00', 37.83870967741935]]"
      ]
     },
     "execution_count": 13,
     "metadata": {},
     "output_type": "execute_result"
    }
   ],
   "source": [
    "avg_points_per_hour = [] # list for average points per hour on show posts\n",
    "\n",
    "for row in points_show_posts:\n",
    "    points = points_show_posts[row] \n",
    "    posts = count_show_posts[row]\n",
    "    avg_points_per_hour.append([row, points/posts])\n",
    "\n",
    "avg_points_per_hour"
   ]
  },
  {
   "cell_type": "code",
   "execution_count": 14,
   "metadata": {
    "scrolled": true
   },
   "outputs": [
    {
     "data": {
      "text/plain": [
       "[[42.388888888888886, '23'],\n",
       " [41.68852459016394, '12'],\n",
       " [40.34782608695652, '22'],\n",
       " [37.83870967741935, '00'],\n",
       " [36.31147540983606, '18'],\n",
       " [33.63636363636363, '11'],\n",
       " [30.945454545454545, '19'],\n",
       " [30.316666666666666, '20'],\n",
       " [28.564102564102566, '15'],\n",
       " [28.322580645161292, '16'],\n",
       " [27.107526881720432, '17'],\n",
       " [25.430232558139537, '14'],\n",
       " [25.14814814814815, '03'],\n",
       " [25.0, '01'],\n",
       " [24.626262626262626, '13'],\n",
       " [23.4375, '06'],\n",
       " [19.0, '07'],\n",
       " [18.916666666666668, '10'],\n",
       " [18.433333333333334, '09'],\n",
       " [18.425531914893618, '21'],\n",
       " [15.264705882352942, '08'],\n",
       " [14.846153846153847, '04'],\n",
       " [11.333333333333334, '02'],\n",
       " [5.473684210526316, '05']]"
      ]
     },
     "execution_count": 14,
     "metadata": {},
     "output_type": "execute_result"
    }
   ],
   "source": [
    "sorted_show_list = [] # new list to call sorted function on average points in descending order\n",
    "for row in avg_points_per_hour:\n",
    "    sorted_show_list.append([row[1],row[0]]) \n",
    "    \n",
    "sorted_show_list = sorted(sorted_show_list,reverse = True)\n",
    "\n",
    "sorted_show_list"
   ]
  },
  {
   "cell_type": "code",
   "execution_count": 15,
   "metadata": {
    "scrolled": true
   },
   "outputs": [
    {
     "name": "stdout",
     "output_type": "stream",
     "text": [
      "Top 5 Times for Show Posts Ranked by Points \n",
      "Show posts at 23:00 receive an average of 42.39 points\n",
      "Show posts at 12:00 receive an average of 41.69 points\n",
      "Show posts at 22:00 receive an average of 40.35 points\n",
      "Show posts at 00:00 receive an average of 37.84 points\n",
      "Show posts at 18:00 receive an average of 36.31 points\n"
     ]
    }
   ],
   "source": [
    "string_2 = \"Top 5 Times for Show Posts Ranked by Points \"\n",
    "\n",
    "print(string_2)\n",
    "\n",
    "for row in sorted_show_list[0:5]:\n",
    "    template_2 = 'Show posts at {} receive an average of {:.2f} points'\n",
    "    date = dt.datetime.strptime(row[1], '%H')\n",
    "    time = date.strftime('%H:%M')\n",
    "    \n",
    "    print(template_2.format(time, row[0]))"
   ]
  },
  {
   "cell_type": "markdown",
   "metadata": {},
   "source": [
    "Our analysis indicates that show posts receive a higher amount of average points per hour, the best time being 11pm with an average of 42.39 points."
   ]
  },
  {
   "cell_type": "markdown",
   "metadata": {},
   "source": [
    "# Part 3 (extra credit work)\n",
    "In part 3, we will perform similar analysis on our other posts list, focusing on the amount of comments and points, respectively."
   ]
  },
  {
   "cell_type": "code",
   "execution_count": 16,
   "metadata": {},
   "outputs": [
    {
     "name": "stdout",
     "output_type": "stream",
     "text": [
      "Average comments on other posts are 26.8730371059672\n"
     ]
    }
   ],
   "source": [
    "total_other_comments = 0 # counting total number of comments on other posts\n",
    "for row in other_posts:\n",
    "    other_comment = int(row[4])\n",
    "    total_other_comments += other_comment\n",
    "avg_other_comments = total_other_comments/len(other_posts) # calculating average number of comments on other posts\n",
    "template = \"Average comments on other posts are \"\n",
    "print(template + str(avg_other_comments))\n"
   ]
  },
  {
   "cell_type": "code",
   "execution_count": 17,
   "metadata": {},
   "outputs": [
    {
     "name": "stdout",
     "output_type": "stream",
     "text": [
      "[['8/4/2016 11:52', 52], ['1/26/2016 19:30', 10], ['6/23/2016 22:20', 1], ['6/17/2016 0:01', 1], ['9/30/2015 4:12', 2]]\n"
     ]
    }
   ],
   "source": [
    "other_result_list = [] # list to populate with when post created & number of comments in other posts\n",
    "for post in other_posts:\n",
    "    created_at = (post[6])\n",
    "    comments = int(post[4])\n",
    "    other_result_list.append([created_at, comments])\n",
    "    \n",
    "print(other_result_list[0:5])\n",
    "\n",
    "    "
   ]
  },
  {
   "cell_type": "code",
   "execution_count": 18,
   "metadata": {},
   "outputs": [
    {
     "name": "stdout",
     "output_type": "stream",
     "text": [
      "{'11': 19532, '19': 26167, '22': 17635, '00': 16544, '04': 10953, '09': 14732, '16': 27959, '18': 29186, '10': 15728, '12': 23944, '20': 21080, '03': 10918, '17': 32727, '14': 30973, '13': 28363, '01': 11536, '23': 16592, '08': 13405, '02': 12254, '21': 20635, '15': 30700, '06': 8714, '05': 9768, '07': 12010}\n"
     ]
    }
   ],
   "source": [
    "counts_by_hour_other = {} # dictionaries to make freq table on number of posts & comments per hour \n",
    "comments_by_hour_other = {}\n",
    "date_format_other = '%m/%d/%Y %H:%M'\n",
    "\n",
    "for row in other_result_list:\n",
    "    date = row[0]\n",
    "    comment = row[1]\n",
    "    date_final = dt.datetime.strptime(date, date_format_other)\n",
    "    time = date_final.strftime(\"%H\")\n",
    "    \n",
    "    if time in counts_by_hour_other:\n",
    "        counts_by_hour_other[time] += 1\n",
    "        comments_by_hour_other[time] += comment\n",
    "        \n",
    "    else:\n",
    "        counts_by_hour_other[time] = 1\n",
    "        comments_by_hour_other[time] = comment\n",
    "        \n",
    "print(comments_by_hour_other)\n",
    "\n",
    "    \n",
    "    "
   ]
  },
  {
   "cell_type": "code",
   "execution_count": 19,
   "metadata": {},
   "outputs": [
    {
     "name": "stdout",
     "output_type": "stream",
     "text": [
      "[['11', 29.593939393939394], ['19', 26.701020408163266], ['22', 23.265171503957784], ['00', 27.076923076923077], ['04', 24.125550660792953], ['09', 27.588014981273407], ['16', 25.394187102633968], ['18', 26.924354243542435], ['10', 26.612521150592215], ['12', 30.34727503168568], ['20', 23.13940724478595], ['03', 26.825552825552826], ['17', 27.99572284003422], ['14', 32.33089770354906], ['13', 30.896514161220043], ['01', 23.072], ['23', 24.617210682492583], ['08', 27.026209677419356], ['02', 27.786848072562357], ['21', 23.60983981693364], ['15', 29.51923076923077], ['06', 21.357843137254903], ['05', 25.175257731958762], ['07', 26.808035714285715]]\n"
     ]
    }
   ],
   "source": [
    "avg_by_hour_other = [] # list to populate with hour of day & average number of comments per other post\n",
    "for hour in comments_by_hour_other:\n",
    "    comments = comments_by_hour_other[hour] \n",
    "    counts = counts_by_hour_other[hour]\n",
    "    avg_by_hour_other.append([hour, (comments/counts)])\n",
    "    \n",
    "print(avg_by_hour_other)\n"
   ]
  },
  {
   "cell_type": "code",
   "execution_count": 20,
   "metadata": {},
   "outputs": [
    {
     "data": {
      "text/plain": [
       "[[32.33089770354906, '14'],\n",
       " [30.896514161220043, '13'],\n",
       " [30.34727503168568, '12'],\n",
       " [29.593939393939394, '11'],\n",
       " [29.51923076923077, '15'],\n",
       " [27.99572284003422, '17'],\n",
       " [27.786848072562357, '02'],\n",
       " [27.588014981273407, '09'],\n",
       " [27.076923076923077, '00'],\n",
       " [27.026209677419356, '08'],\n",
       " [26.924354243542435, '18'],\n",
       " [26.825552825552826, '03'],\n",
       " [26.808035714285715, '07'],\n",
       " [26.701020408163266, '19'],\n",
       " [26.612521150592215, '10'],\n",
       " [25.394187102633968, '16'],\n",
       " [25.175257731958762, '05'],\n",
       " [24.617210682492583, '23'],\n",
       " [24.125550660792953, '04'],\n",
       " [23.60983981693364, '21'],\n",
       " [23.265171503957784, '22'],\n",
       " [23.13940724478595, '20'],\n",
       " [23.072, '01'],\n",
       " [21.357843137254903, '06']]"
      ]
     },
     "execution_count": 20,
     "metadata": {},
     "output_type": "execute_result"
    }
   ],
   "source": [
    "swap_avg_by_hour_other = [] # list to swap previous list variables \n",
    "for hour in avg_by_hour_other:\n",
    "    hr = hour[0]\n",
    "    avg = hour[1]\n",
    "    swap_avg_by_hour_other.append([avg,hr])\n",
    "    \n",
    "swap_avg_by_hour_other\n",
    "\n",
    "sorted_swap_other = sorted(swap_avg_by_hour_other, reverse = True) # sorts average number of comments highest to lowest\n",
    "sorted_swap_other\n",
    "            "
   ]
  },
  {
   "cell_type": "code",
   "execution_count": 21,
   "metadata": {},
   "outputs": [
    {
     "name": "stdout",
     "output_type": "stream",
     "text": [
      "Top 5 Times for Other Posts Comments\n",
      "14:00: 32.33 average comments per other post\n",
      "13:00: 30.90 average comments per other post\n",
      "12:00: 30.35 average comments per other post\n",
      "11:00: 29.59 average comments per other post\n",
      "15:00: 29.52 average comments per other post\n"
     ]
    }
   ],
   "source": [
    "string_3 = \"Top 5 Times for Other Posts Comments\"\n",
    "print(string_3)\n",
    "\n",
    "for row in sorted_swap_other[:5]:\n",
    "    date = dt.datetime.strptime(row[1], '%H')\n",
    "    time = date.strftime('%H:%M')\n",
    "    template_3 = \"{}: {:.2f} average comments per other post\"\n",
    "    print(template_3.format(time,row[0])) \n",
    "    \n",
    "\n",
    "            "
   ]
  },
  {
   "cell_type": "markdown",
   "metadata": {},
   "source": [
    "# Other Posts Ranked by Points"
   ]
  },
  {
   "cell_type": "code",
   "execution_count": 22,
   "metadata": {
    "scrolled": true
   },
   "outputs": [
    {
     "name": "stdout",
     "output_type": "stream",
     "text": [
      "['id', 'title', 'url', 'num_points', 'num_comments', 'author', 'created_at']\n"
     ]
    }
   ],
   "source": [
    "print(headers)\n",
    "\n"
   ]
  },
  {
   "cell_type": "code",
   "execution_count": 23,
   "metadata": {},
   "outputs": [
    {
     "name": "stdout",
     "output_type": "stream",
     "text": [
      "55.4067698034198\n"
     ]
    }
   ],
   "source": [
    "sum_points_other_posts = 0 # counting all points on other posts\n",
    "\n",
    "for post in other_posts:\n",
    "    points = int(post[3])\n",
    "    sum_points_other_posts += points\n",
    "    \n",
    "print(sum_points_other_posts/len(other_posts)) # calculating avg points on other posts \n",
    "\n",
    "    \n",
    "    \n",
    "    "
   ]
  },
  {
   "cell_type": "code",
   "execution_count": 24,
   "metadata": {},
   "outputs": [
    {
     "name": "stdout",
     "output_type": "stream",
     "text": [
      "[['8/4/2016 11:52', 386], ['1/26/2016 19:30', 39], ['6/23/2016 22:20', 2], ['6/17/2016 0:01', 3], ['9/30/2015 4:12', 8]]\n",
      "{'11': 37995, '19': 58811, '22': 38079, '00': 35718, '04': 22549, '09': 28802, '16': 59655, '18': 58459, '10': 35746, '12': 45287, '20': 41218, '03': 23167, '17': 67777, '14': 59191, '13': 57398, '01': 25303, '23': 35068, '08': 26830, '02': 25786, '21': 43149, '15': 62964, '06': 18864, '05': 19387, '07': 25461}\n"
     ]
    },
    {
     "data": {
      "text/plain": [
       "{'11': 660,\n",
       " '19': 980,\n",
       " '22': 758,\n",
       " '00': 611,\n",
       " '04': 454,\n",
       " '09': 534,\n",
       " '16': 1101,\n",
       " '18': 1084,\n",
       " '10': 591,\n",
       " '12': 789,\n",
       " '20': 911,\n",
       " '03': 407,\n",
       " '17': 1169,\n",
       " '14': 958,\n",
       " '13': 918,\n",
       " '01': 500,\n",
       " '23': 674,\n",
       " '08': 496,\n",
       " '02': 441,\n",
       " '21': 874,\n",
       " '15': 1040,\n",
       " '06': 408,\n",
       " '05': 388,\n",
       " '07': 448}"
      ]
     },
     "execution_count": 24,
     "metadata": {},
     "output_type": "execute_result"
    }
   ],
   "source": [
    "other_points_result_list = [] # list of other posts created & number of points\n",
    "\n",
    "for post in other_posts:\n",
    "    points = int(post[3])\n",
    "    created = post[6]\n",
    "    other_points_result_list.append([created, points])\n",
    "print(other_points_result_list[0:5])\n",
    "\n",
    "count_other_posts = {} # frequency tables for amount of other posts per hour and number of points\n",
    "points_other_posts = {}\n",
    "date_format_other = '%m/%d/%Y %H:%M'\n",
    "for row in other_points_result_list:\n",
    "    date = row[0]\n",
    "    points = row[1]\n",
    "    date_final = dt.datetime.strptime(date, date_format_other)\n",
    "    time = date_final.strftime('%H')\n",
    "    if time in count_other_posts:\n",
    "        count_other_posts[time] += 1\n",
    "        points_other_posts[time] += points\n",
    "        \n",
    "    else:\n",
    "        count_other_posts[time] = 1\n",
    "        points_other_posts[time] = points\n",
    "        \n",
    "print(points_other_posts)\n",
    "count_other_posts"
   ]
  },
  {
   "cell_type": "code",
   "execution_count": 25,
   "metadata": {},
   "outputs": [
    {
     "data": {
      "text/plain": [
       "[['11', 1225.6451612903227],\n",
       " ['19', 1897.1290322580646],\n",
       " ['22', 1228.3548387096773],\n",
       " ['00', 1152.1935483870968],\n",
       " ['04', 727.3870967741935],\n",
       " ['09', 929.0967741935484],\n",
       " ['16', 1924.3548387096773],\n",
       " ['18', 1885.774193548387],\n",
       " ['10', 1153.0967741935483],\n",
       " ['12', 1460.8709677419354],\n",
       " ['20', 1329.6129032258063],\n",
       " ['03', 747.3225806451613],\n",
       " ['17', 2186.3548387096776],\n",
       " ['14', 1909.3870967741937],\n",
       " ['13', 1851.5483870967741],\n",
       " ['01', 816.2258064516129],\n",
       " ['23', 1131.225806451613],\n",
       " ['08', 865.483870967742],\n",
       " ['02', 831.8064516129032],\n",
       " ['21', 1391.9032258064517],\n",
       " ['15', 2031.0967741935483],\n",
       " ['06', 608.516129032258],\n",
       " ['05', 625.3870967741935],\n",
       " ['07', 821.3225806451613]]"
      ]
     },
     "execution_count": 25,
     "metadata": {},
     "output_type": "execute_result"
    }
   ],
   "source": [
    "avg_points_hour_other = [] # list containing average points on other posts per hour\n",
    "for row in points_other_posts: \n",
    "    post = count_other_posts[row]\n",
    "    points = points_other_posts[row]\n",
    "    avg_points_hour_other.append([row, points/posts])\n",
    "    \n",
    "avg_points_hour_other\n",
    "    "
   ]
  },
  {
   "cell_type": "code",
   "execution_count": 26,
   "metadata": {},
   "outputs": [
    {
     "data": {
      "text/plain": [
       "[[2186.3548387096776, '17'],\n",
       " [2031.0967741935483, '15'],\n",
       " [1924.3548387096773, '16'],\n",
       " [1909.3870967741937, '14'],\n",
       " [1897.1290322580646, '19'],\n",
       " [1885.774193548387, '18'],\n",
       " [1851.5483870967741, '13'],\n",
       " [1460.8709677419354, '12'],\n",
       " [1391.9032258064517, '21'],\n",
       " [1329.6129032258063, '20'],\n",
       " [1228.3548387096773, '22'],\n",
       " [1225.6451612903227, '11'],\n",
       " [1153.0967741935483, '10'],\n",
       " [1152.1935483870968, '00'],\n",
       " [1131.225806451613, '23'],\n",
       " [929.0967741935484, '09'],\n",
       " [865.483870967742, '08'],\n",
       " [831.8064516129032, '02'],\n",
       " [821.3225806451613, '07'],\n",
       " [816.2258064516129, '01'],\n",
       " [747.3225806451613, '03'],\n",
       " [727.3870967741935, '04'],\n",
       " [625.3870967741935, '05'],\n",
       " [608.516129032258, '06']]"
      ]
     },
     "execution_count": 26,
     "metadata": {},
     "output_type": "execute_result"
    }
   ],
   "source": [
    "sorted_other_list = [] # new list using sorted function to list avg points per hour highest to lowest\n",
    "for row in avg_points_hour_other:\n",
    "    sorted_other_list.append([row[1], row[0]])\n",
    "    \n",
    "sorted_other_list = sorted(sorted_other_list, reverse = True)\n",
    "\n",
    "sorted_other_list"
   ]
  },
  {
   "cell_type": "code",
   "execution_count": 27,
   "metadata": {
    "scrolled": true
   },
   "outputs": [
    {
     "name": "stdout",
     "output_type": "stream",
     "text": [
      "Top 5 times for Other Posts Ranked by Points\n",
      "Other posts at 17:00 receive on average 2186.35 points\n",
      "Other posts at 15:00 receive on average 2031.10 points\n",
      "Other posts at 16:00 receive on average 1924.35 points\n",
      "Other posts at 14:00 receive on average 1909.39 points\n",
      "Other posts at 19:00 receive on average 1897.13 points\n"
     ]
    }
   ],
   "source": [
    "string_4 = \"Top 5 times for Other Posts Ranked by Points\"\n",
    "print(string_4)\n",
    "\n",
    "for row in sorted_other_list[0:5]:\n",
    "    template_4 = 'Other posts at {} receive on average {:.2f} points'\n",
    "    date = dt.datetime.strptime(row[1], '%H')\n",
    "    time = date.strftime('%H:%M')\n",
    "    print(template_4.format(time, row[0]))\n",
    "    \n",
    "    \n",
    "    "
   ]
  },
  {
   "cell_type": "markdown",
   "metadata": {},
   "source": [
    "Our analysis indicates that the best time for other posts to receive points is at 5pm with an average of 2,186.35 points."
   ]
  }
 ],
 "metadata": {
  "kernelspec": {
   "display_name": "Python 3",
   "language": "python",
   "name": "python3"
  },
  "language_info": {
   "codemirror_mode": {
    "name": "ipython",
    "version": 3
   },
   "file_extension": ".py",
   "mimetype": "text/x-python",
   "name": "python",
   "nbconvert_exporter": "python",
   "pygments_lexer": "ipython3",
   "version": "3.8.5"
  }
 },
 "nbformat": 4,
 "nbformat_minor": 2
}
